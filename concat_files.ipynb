{
 "cells": [
  {
   "cell_type": "markdown",
   "id": "2d54ade5",
   "metadata": {},
   "source": [
    "##### Merge all files"
   ]
  },
  {
   "cell_type": "code",
   "execution_count": 1,
   "id": "9a13f524",
   "metadata": {},
   "outputs": [],
   "source": [
    "import glob\n",
    "import pandas as pd"
   ]
  },
  {
   "cell_type": "code",
   "execution_count": 2,
   "id": "b50cc45b",
   "metadata": {},
   "outputs": [],
   "source": [
    "file_path = \"searchresults//*.csv\"\n",
    "file_list = [f for f in glob.glob(file_path)]"
   ]
  },
  {
   "cell_type": "code",
   "execution_count": 4,
   "id": "635bb9c6",
   "metadata": {},
   "outputs": [],
   "source": [
    "df = pd.read_csv(file_list[0])\n",
    "\n",
    "for f in file_list[1:]:\n",
    "    temp = pd.read_csv(f)\n",
    "    df = pd.concat([df, temp], axis = 0)"
   ]
  },
  {
   "cell_type": "code",
   "execution_count": 8,
   "id": "7a0aacb2",
   "metadata": {},
   "outputs": [],
   "source": [
    "df.to_csv(\"searchresults//total.csv\", index=False)"
   ]
  },
  {
   "cell_type": "code",
   "execution_count": null,
   "id": "ee7a4e4e",
   "metadata": {},
   "outputs": [],
   "source": []
  }
 ],
 "metadata": {
  "kernelspec": {
   "display_name": "line",
   "language": "python",
   "name": "line"
  },
  "language_info": {
   "codemirror_mode": {
    "name": "ipython",
    "version": 3
   },
   "file_extension": ".py",
   "mimetype": "text/x-python",
   "name": "python",
   "nbconvert_exporter": "python",
   "pygments_lexer": "ipython3",
   "version": "3.8.13"
  }
 },
 "nbformat": 4,
 "nbformat_minor": 5
}
